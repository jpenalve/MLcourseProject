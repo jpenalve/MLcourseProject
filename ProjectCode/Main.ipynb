{
 "cells": [
  {
   "cell_type": "markdown",
   "metadata": {},
   "source": [
    "# LOAD Modules"
   ]
  },
  {
   "cell_type": "code",
   "execution_count": 1,
   "metadata": {},
   "outputs": [],
   "source": [
    "%matplotlib inline\n",
    "#%matplotlib widget\n",
    "%load_ext autoreload\n",
    "%autoreload 2\n",
    "\n",
    "\n",
    "import numpy as np\n",
    "from visualisations import eeg_sample_plot, events_distribution_plot\n",
    "from sklearn.model_selection import train_test_split\n",
    "from torchvision.transforms import Compose, ToTensor\n",
    "from torch.utils.data import DataLoader\n",
    "from datasets import ChannelsVoltageDataset\n",
    "from neural_nets.nn_models_getter import get_nn_model\n",
    "from optimizers import get_optimizer\n",
    "from utils_train import fit, test, plot_all_metrics, plot_val_metrics\n",
    "from configs import configs_ozhan, configs_tim, configs_joaquin\n",
    "from data_loader_creation import get_dataloader_objects\n",
    "from classification_results import results_storer\n",
    "\n"
   ]
  },
  {
   "cell_type": "markdown",
   "metadata": {},
   "source": [
    "# Select the configuration"
   ]
  },
  {
   "cell_type": "code",
   "execution_count": null,
   "metadata": {},
   "outputs": [],
   "source": [
    "\"\"\" USER: SELECT THE CONFIGURATION YOU NEED \"\"\"\n",
    "#myList = configs_tim.list_of_configs\n",
    "#myList = configs_joaquin.list_of_configs\n",
    "myList = configs_ozhan.list_of_configs"
   ]
  },
  {
   "cell_type": "markdown",
   "metadata": {},
   "source": [
    "# Train"
   ]
  },
  {
   "cell_type": "code",
   "execution_count": null,
   "metadata": {},
   "outputs": [
    {
     "name": "stdout",
     "output_type": "stream",
     "text": [
      "ConvNetOzhan_Adam \n",
      "-------------------------\n",
      "\n",
      "We are not on the cluster...\n",
      "\n",
      "Data is being loaded using MNE...\n"
     ]
    },
    {
     "name": "stderr",
     "output_type": "stream",
     "text": [
      "100%|██████████| 6/6 [00:31<00:00,  5.82s/it]\n"
     ]
    },
    {
     "name": "stdout",
     "output_type": "stream",
     "text": [
      "5418 matching events found\n",
      "No baseline correction applied\n",
      "...data loading with MNE was finished. \n",
      "\n",
      "Data is being augmented with gaussian noise...\n"
     ]
    },
    {
     "name": "stderr",
     "output_type": "stream",
     "text": [
      "100%|██████████| 4388/4388 [00:24<00:00, 179.14it/s]\n"
     ]
    },
    {
     "name": "stdout",
     "output_type": "stream",
     "text": [
      "...augmentation with gaussian noise is finished. \n",
      "\n",
      "cuda will be used for training of this model.\n",
      "You have 2 GPUs for training!\n",
      "Learning Rate:  0.001 \n",
      "\n",
      "-> Epoch 1/50: train_loss: 1.8900, train_accuracy: 27.4499%, val_loss: 1.7768, val_accuracy: 31.1475%\n",
      "-> Epoch 2/50: train_loss: 1.7244, train_accuracy: 34.7767%, val_loss: 1.9186, val_accuracy: 27.0492%\n",
      "-> Epoch 3/50: train_loss: 1.6709, train_accuracy: 36.7935%, val_loss: 1.8434, val_accuracy: 29.9180%\n",
      "-> Epoch 4/50: train_loss: 1.6095, train_accuracy: 40.2746%, val_loss: 1.8662, val_accuracy: 31.9672%\n",
      "-> Epoch 5/50: train_loss: 1.5470, train_accuracy: 43.3968%, val_loss: 1.8541, val_accuracy: 28.4836%\n",
      "-> Epoch 6/50: train_loss: 1.4692, train_accuracy: 46.3366%, val_loss: 1.6761, val_accuracy: 35.0410%\n",
      "-> Epoch 7/50: train_loss: 1.3697, train_accuracy: 50.3247%, val_loss: 1.7324, val_accuracy: 36.6803%\n",
      "-> Epoch 8/50: train_loss: 1.2416, train_accuracy: 55.6233%, val_loss: 1.9161, val_accuracy: 28.8934%\n",
      "-> Epoch 9/50: train_loss: 1.1021, train_accuracy: 61.4403%, val_loss: 1.9163, val_accuracy: 33.6066%\n",
      "-> Epoch 10/50: train_loss: 0.9303, train_accuracy: 68.4196%, val_loss: 2.2955, val_accuracy: 30.3279%\n",
      "-> Epoch 11/50: train_loss: 0.8075, train_accuracy: 73.2395%, val_loss: 2.2351, val_accuracy: 30.3279%\n",
      "-> Epoch 12/50: train_loss: 0.6938, train_accuracy: 77.7746%, val_loss: 2.1010, val_accuracy: 34.4262%\n",
      "-> Epoch 13/50: train_loss: 0.5745, train_accuracy: 82.6003%, val_loss: 1.8926, val_accuracy: 37.5000%\n",
      "-> Epoch 14/50: train_loss: 0.5504, train_accuracy: 83.3010%, val_loss: 2.2553, val_accuracy: 31.5574%\n",
      "-> Epoch 15/50: train_loss: 0.4980, train_accuracy: 85.2495%, val_loss: 2.1115, val_accuracy: 36.8852%\n",
      "-> Epoch 16/50: train_loss: 0.3981, train_accuracy: 89.2377%, val_loss: 2.4166, val_accuracy: 34.8361%\n",
      "-> Epoch 17/50: train_loss: 0.4400, train_accuracy: 87.4487%, val_loss: 2.7762, val_accuracy: 31.7623%\n",
      "-> Epoch 18/50: train_loss: 0.4000, train_accuracy: 89.3459%, val_loss: 2.1876, val_accuracy: 34.0164%\n",
      "-> Epoch 19/50: train_loss: 0.3645, train_accuracy: 90.3715%, val_loss: 2.0575, val_accuracy: 36.0656%\n",
      "-> Epoch 20/50: train_loss: 0.3397, train_accuracy: 91.4995%, val_loss: 2.4151, val_accuracy: 33.4016%\n"
     ]
    }
   ],
   "source": [
    "training_curves = {}\n",
    "\n",
    "for my_cfg in myList:\n",
    "    \n",
    "    curve_name = my_cfg.nn_list[my_cfg.nn_selection_idx] + \"_\" + my_cfg.optimizer_list[my_cfg.optimizer_selection_idx]\n",
    "    print(curve_name,\"\\n-------------------------\\n\", flush=True)\n",
    "    \n",
    "    \"\"\" PREPARE DATALOADERS \"\"\"\n",
    "    train_dl, val_dl, test_dl, input_dimension_, output_dimension_ = get_dataloader_objects(my_cfg)\n",
    "\n",
    "\n",
    "    \"\"\"CLASSIFICATION\"\"\"\n",
    "    # Get the model\n",
    "    model_untrained = get_nn_model(my_cfg.nn_list[my_cfg.nn_selection_idx], input_dimension=input_dimension_,\n",
    "                                   output_dimension=output_dimension_, dropout=my_cfg.dropout_perc)\n",
    "\n",
    "    # Get the optimizer\n",
    "    optimizer = get_optimizer(my_cfg.optimizer_list[my_cfg.optimizer_selection_idx], my_cfg.learning_rate,\n",
    "                              model_untrained.parameters(), my_cfg.momentum, my_cfg.weight_decay)\n",
    "\n",
    "    # Train and show validation loss\n",
    "    train_losses, train_accuracies, val_losses, val_accuracies, model_trained, time_spent_for_training_s =\\\n",
    "        fit(train_dl, val_dl, model_untrained, optimizer, my_cfg.loss_fn, my_cfg.num_of_epochs, \\\n",
    "            scheduler=my_cfg.scheduler, apply_early_stopping = my_cfg.use_early_stopping, \\\n",
    "            estop_patience=my_cfg.es_patience, curve_name = curve_name)\n",
    "    \n",
    "    \n",
    "    curves = train_losses, train_accuracies, val_losses, val_accuracies, model_trained, time_spent_for_training_s\n",
    "    \n",
    "    \n",
    "    training_curves[curve_name] = curves\n",
    "    \n",
    "    # Test the net\n",
    "    print('\\nPerformance on the test set:')\n",
    "    test_loss, test_accuracy = test(model_trained, test_dl, my_cfg.loss_fn, print_loss=True)\n",
    "    print('->test_loss: {:.4f}, test_accuracy: {:.4f}%'.format(test_loss, test_accuracy))\n",
    "\n",
    "\n",
    "    # Store the results\n",
    "    results_storer.store_results_for_plot(my_cfg,test_loss, test_accuracy, train_losses,\n",
    "                                 train_accuracies, time_spent_for_training_s, val_losses, val_accuracies)\n",
    "\n",
    "    results_storer.store_results(my_cfg, model_trained, optimizer, test_loss, test_accuracy, train_losses,\n",
    "                                 train_accuracies, time_spent_for_training_s, val_losses, val_accuracies, test_dl)\n",
    "\n",
    "\n",
    "plot_all_metrics(training_curves)"
   ]
  },
  {
   "cell_type": "code",
   "execution_count": null,
   "metadata": {},
   "outputs": [],
   "source": []
  },
  {
   "cell_type": "code",
   "execution_count": null,
   "metadata": {},
   "outputs": [],
   "source": []
  }
 ],
 "metadata": {
  "kernelspec": {
   "display_name": "Python 3",
   "language": "python",
   "name": "python3"
  },
  "language_info": {
   "codemirror_mode": {
    "name": "ipython",
    "version": 3
   },
   "file_extension": ".py",
   "mimetype": "text/x-python",
   "name": "python",
   "nbconvert_exporter": "python",
   "pygments_lexer": "ipython3",
   "version": "3.7.3"
  }
 },
 "nbformat": 4,
 "nbformat_minor": 2
}
