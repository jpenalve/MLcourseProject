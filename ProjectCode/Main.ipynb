{
 "cells": [
  {
   "cell_type": "markdown",
   "metadata": {},
   "source": [
    "# LOAD Modules"
   ]
  },
  {
   "cell_type": "code",
   "execution_count": 1,
   "metadata": {},
   "outputs": [],
   "source": [
    "%matplotlib inline\n",
    "#%matplotlib widget\n",
    "%load_ext autoreload\n",
    "%autoreload 2\n",
    "\n",
    "\n",
    "import numpy as np\n",
    "from visualisations import eeg_sample_plot, events_distribution_plot, curve_name_gen\n",
    "from sklearn.model_selection import train_test_split\n",
    "from torchvision.transforms import Compose, ToTensor\n",
    "from torch.utils.data import DataLoader\n",
    "from datasets import ChannelsVoltageDataset\n",
    "from neural_nets.nn_models_getter import get_nn_model\n",
    "from optimizers import get_optimizer\n",
    "from utils_train import fit, test, plot_all_metrics, plot_val_metrics, final_test_acc\n",
    "from configs import configs_ozhan, configs_tim, configs_joaquin\n",
    "from data_loader_creation import get_dataloader_objects\n",
    "from classification_results import results_storer\n",
    "\n"
   ]
  },
  {
   "cell_type": "markdown",
   "metadata": {},
   "source": [
    "# Select the configuration"
   ]
  },
  {
   "cell_type": "code",
   "execution_count": 2,
   "metadata": {},
   "outputs": [],
   "source": [
    "\"\"\" USER: SELECT THE CONFIGURATION YOU NEED \"\"\"\n",
    "#myList = configs_tim.list_of_configs\n",
    "#myList = configs_joaquin.list_of_configs\n",
    "myList = configs_ozhan.list_of_configs"
   ]
  },
  {
   "cell_type": "markdown",
   "metadata": {},
   "source": [
    "# Train"
   ]
  },
  {
   "cell_type": "code",
   "execution_count": null,
   "metadata": {},
   "outputs": [
    {
     "name": "stdout",
     "output_type": "stream",
     "text": [
      "ConvNetOzhan_Adam \n",
      "-------------------------\n",
      "\n",
      "We are not on the cluster...\n",
      "\n",
      "Data is being loaded using MNE...\n"
     ]
    },
    {
     "name": "stderr",
     "output_type": "stream",
     "text": [
      "100%|██████████| 4/4 [00:28<00:00,  7.19s/it]\n"
     ]
    },
    {
     "name": "stdout",
     "output_type": "stream",
     "text": [
      "5400 matching events found\n",
      "No baseline correction applied\n",
      "...data loading with MNE was finished. \n",
      "\n",
      "Data is being augmented with gaussian noise...\n"
     ]
    },
    {
     "name": "stderr",
     "output_type": "stream",
     "text": [
      "100%|██████████| 4374/4374 [00:08<00:00, 535.85it/s]\n"
     ]
    },
    {
     "name": "stdout",
     "output_type": "stream",
     "text": [
      "...augmentation with gaussian noise is finished. \n",
      "\n",
      "cuda will be used for training of this model.\n",
      "You have 2 GPUs for training!\n",
      "Learning Rate:  0.001 \n",
      "\n",
      "-> Epoch 1/25: train_loss: 2.0625, train_accuracy: 16.5181%, val_loss: 2.0321, val_accuracy: 19.3416%\n",
      "-> Epoch 2/25: train_loss: 1.9814, train_accuracy: 25.0343%, val_loss: 1.9505, val_accuracy: 30.4527%\n",
      "-> Epoch 3/25: train_loss: 1.9163, train_accuracy: 31.7101%, val_loss: 1.9115, val_accuracy: 31.0700%\n",
      "-> Epoch 4/25: train_loss: 1.8666, train_accuracy: 37.1285%, val_loss: 1.8753, val_accuracy: 37.2428%\n",
      "-> Epoch 5/25: train_loss: 1.8342, train_accuracy: 39.5633%, val_loss: 1.8428, val_accuracy: 37.6543%\n",
      "-> Epoch 6/25: train_loss: 1.8148, train_accuracy: 41.0380%, val_loss: 1.8421, val_accuracy: 36.6255%\n",
      "-> Epoch 7/25: train_loss: 1.8049, train_accuracy: 41.1637%, val_loss: 1.8439, val_accuracy: 34.7737%\n",
      "-> Epoch 8/25: train_loss: 1.7954, train_accuracy: 42.2154%, val_loss: 1.8445, val_accuracy: 37.8601%\n",
      "-> Epoch 9/25: train_loss: 1.7858, train_accuracy: 42.5926%, val_loss: 1.8389, val_accuracy: 37.2428%\n",
      "-> Epoch 10/25: train_loss: 1.7814, train_accuracy: 42.8326%, val_loss: 1.8249, val_accuracy: 37.8601%\n",
      "\n",
      "New Learning Rate:  0.0005\n",
      "-> Epoch 11/25: train_loss: 1.7693, train_accuracy: 43.4156%, val_loss: 1.8269, val_accuracy: 40.9465%\n",
      "-> Epoch 12/25: train_loss: 1.7663, train_accuracy: 44.0101%, val_loss: 1.8228, val_accuracy: 40.5350%\n",
      "-> Epoch 13/25: train_loss: 1.7640, train_accuracy: 44.0558%, val_loss: 1.8263, val_accuracy: 36.8313%\n"
     ]
    }
   ],
   "source": [
    "training_curves = {}\n",
    "\n",
    "for my_cfg in myList:\n",
    "    \n",
    "    curve_name_gen(my_cfg)\n",
    "    \n",
    "    \"\"\" PREPARE DATALOADERS \"\"\"\n",
    "    train_dl, val_dl, test_dl, input_dimension_, output_dimension_ = get_dataloader_objects(my_cfg)\n",
    "\n",
    "\n",
    "    \"\"\"CLASSIFICATION\"\"\"\n",
    "    # Get the model\n",
    "    model_untrained = get_nn_model(my_cfg, input_dimension=input_dimension_,output_dimension=output_dimension_)\n",
    "\n",
    "    # Get the optimizer\n",
    "    optimizer = get_optimizer(my_cfg, model_untrained.parameters())\n",
    "\n",
    "    # Train and show validation loss\n",
    "    train_losses, train_accuracies, val_losses, val_accuracies, model_trained, time_spent_for_training_s =\\\n",
    "        fit(train_dl, val_dl, model_untrained, optimizer, my_cfg)\n",
    "    \n",
    "    curves = train_losses, train_accuracies, val_losses, val_accuracies, model_trained, time_spent_for_training_s\n",
    "    training_curves[my_cfg.curve_name] = curves\n",
    "    \n",
    "    # Report final accuracy\n",
    "    test_loss, test_accuracy =  final_test_acc(model_trained, test_dl, my_cfg)\n",
    "\n",
    "\n",
    "    # Store the results\n",
    "    results_storer.store_results_for_plot(my_cfg,test_loss, test_accuracy, train_losses,\n",
    "                                 train_accuracies, time_spent_for_training_s, val_losses, val_accuracies)\n",
    "\n",
    "    results_storer.store_results(my_cfg, model_trained, optimizer, test_loss, test_accuracy, train_losses,\n",
    "                                 train_accuracies, time_spent_for_training_s, val_losses, val_accuracies, test_dl)\n",
    "\n",
    "\n",
    "plot_all_metrics(training_curves)"
   ]
  },
  {
   "cell_type": "code",
   "execution_count": null,
   "metadata": {},
   "outputs": [],
   "source": []
  },
  {
   "cell_type": "code",
   "execution_count": null,
   "metadata": {},
   "outputs": [],
   "source": []
  }
 ],
 "metadata": {
  "kernelspec": {
   "display_name": "Python 3",
   "language": "python",
   "name": "python3"
  },
  "language_info": {
   "codemirror_mode": {
    "name": "ipython",
    "version": 3
   },
   "file_extension": ".py",
   "mimetype": "text/x-python",
   "name": "python",
   "nbconvert_exporter": "python",
   "pygments_lexer": "ipython3",
   "version": "3.7.3"
  }
 },
 "nbformat": 4,
 "nbformat_minor": 2
}
