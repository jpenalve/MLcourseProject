{
 "cells": [
  {
   "cell_type": "markdown",
   "metadata": {},
   "source": [
    "# LOAD Modules"
   ]
  },
  {
   "cell_type": "code",
   "execution_count": 1,
   "metadata": {},
   "outputs": [],
   "source": [
    "%matplotlib inline\n",
    "#%matplotlib widget\n",
    "%load_ext autoreload\n",
    "%autoreload 2\n",
    "\n",
    "\n",
    "import numpy as np\n",
    "from visualisations import eeg_sample_plot, events_distribution_plot, curve_name_gen\n",
    "from sklearn.model_selection import train_test_split\n",
    "from torchvision.transforms import Compose, ToTensor\n",
    "from torch.utils.data import DataLoader\n",
    "from datasets import ChannelsVoltageDataset\n",
    "from neural_nets.nn_models_getter import get_nn_model\n",
    "from optimizers import get_optimizer\n",
    "from utils_train import fit, test, plot_all_metrics, plot_val_metrics, final_test_acc\n",
    "from configs import configs_ozhan, configs_tim, configs_joaquin\n",
    "from data_loader_creation import get_dataloader_objects\n",
    "from classification_results import results_storer\n",
    "\n"
   ]
  },
  {
   "cell_type": "markdown",
   "metadata": {},
   "source": [
    "# Select the configuration"
   ]
  },
  {
   "cell_type": "code",
   "execution_count": 2,
   "metadata": {},
   "outputs": [],
   "source": [
    "\"\"\" USER: SELECT THE CONFIGURATION YOU NEED \"\"\"\n",
    "#myList = configs_tim.list_of_configs\n",
    "#myList = configs_joaquin.list_of_configs\n",
    "myList = configs_ozhan.list_of_configs"
   ]
  },
  {
   "cell_type": "markdown",
   "metadata": {},
   "source": [
    "# Train"
   ]
  },
  {
   "cell_type": "code",
   "execution_count": null,
   "metadata": {},
   "outputs": [
    {
     "name": "stdout",
     "output_type": "stream",
     "text": [
      "ConvNetOzhan_Adam \n",
      "-------------------------\n",
      "\n",
      "We are not on the cluster...\n",
      "\n",
      "Data is being loaded using MNE...\n"
     ]
    },
    {
     "name": "stderr",
     "output_type": "stream",
     "text": [
      "100%|██████████| 4/4 [00:28<00:00,  7.16s/it]\n"
     ]
    },
    {
     "name": "stdout",
     "output_type": "stream",
     "text": [
      "5400 matching events found\n",
      "No baseline correction applied\n",
      "...data loading with MNE was finished. \n",
      "\n",
      "400  time samples and  64  EEG channels for one epoch are taken.  Total epoch number is  5400  and there are  30  subjects included.\n",
      " There are in total  8  classes for classification.\n",
      "\n",
      "Data is being augmented with gaussian noise...\n"
     ]
    },
    {
     "name": "stderr",
     "output_type": "stream",
     "text": [
      "100%|██████████| 4374/4374 [00:03<00:00, 1097.90it/s]\n"
     ]
    },
    {
     "name": "stdout",
     "output_type": "stream",
     "text": [
      "...augmentation with gaussian noise is finished. \n",
      "\n",
      "cuda will be used for training of this model.\n",
      "You have 2 GPUs for training!\n",
      "Learning Rate:  0.001 \n",
      "\n",
      "-> Epoch 1/25: train_loss: 2.0607, train_accuracy: 16.6438%, val_loss: 2.0469, val_accuracy: 17.6955%\n",
      "-> Epoch 2/25: train_loss: 2.0121, train_accuracy: 20.8733%, val_loss: 1.9980, val_accuracy: 19.3416%\n",
      "-> Epoch 3/25: train_loss: 1.9639, train_accuracy: 24.9886%, val_loss: 1.9644, val_accuracy: 26.9547%\n",
      "-> Epoch 4/25: train_loss: 1.9292, train_accuracy: 30.7842%, val_loss: 1.9363, val_accuracy: 33.3333%\n",
      "-> Epoch 5/25: train_loss: 1.8824, train_accuracy: 34.0764%, val_loss: 1.9101, val_accuracy: 28.8066%\n",
      "-> Epoch 6/25: train_loss: 1.8534, train_accuracy: 35.0480%, val_loss: 1.8869, val_accuracy: 34.3621%\n",
      "-> Epoch 7/25: train_loss: 1.8380, train_accuracy: 36.7627%, val_loss: 1.8926, val_accuracy: 31.8930%\n",
      "-> Epoch 8/25: train_loss: 1.8259, train_accuracy: 37.4028%, val_loss: 1.9096, val_accuracy: 29.0123%\n",
      "-> Epoch 9/25: train_loss: 1.8172, train_accuracy: 38.8203%, val_loss: 1.8818, val_accuracy: 31.2757%\n",
      "-> Epoch 10/25: train_loss: 1.8158, train_accuracy: 38.8546%, val_loss: 1.8883, val_accuracy: 32.0988%\n",
      "\n",
      "New Learning Rate:  0.0005\n",
      "-> Epoch 11/25: train_loss: 1.8034, train_accuracy: 39.9863%, val_loss: 1.8612, val_accuracy: 38.0658%\n",
      "-> Epoch 12/25: train_loss: 1.7993, train_accuracy: 40.7636%, val_loss: 1.8670, val_accuracy: 32.5103%\n",
      "-> Epoch 13/25: train_loss: 1.7965, train_accuracy: 40.7979%, val_loss: 1.8682, val_accuracy: 34.5679%\n",
      "-> Epoch 14/25: train_loss: 1.7926, train_accuracy: 41.0608%, val_loss: 1.8668, val_accuracy: 34.7737%\n",
      "-> Epoch 15/25: train_loss: 1.7910, train_accuracy: 41.7695%, val_loss: 1.8780, val_accuracy: 32.0988%\n",
      "-> Epoch 16/25: train_loss: 1.7867, train_accuracy: 41.9296%, val_loss: 1.8685, val_accuracy: 33.9506%\n",
      "-> Epoch 17/25: train_loss: 1.7858, train_accuracy: 42.5354%, val_loss: 1.8612, val_accuracy: 36.0082%\n",
      "-> Epoch 18/25: train_loss: 1.7835, train_accuracy: 42.5926%, val_loss: 1.8548, val_accuracy: 36.6255%\n"
     ]
    }
   ],
   "source": [
    "training_curves = {}\n",
    "\n",
    "for my_cfg in myList:\n",
    "    \n",
    "    curve_name_gen(my_cfg)\n",
    "    \n",
    "    \"\"\" PREPARE DATALOADERS \"\"\"\n",
    "    train_dl, val_dl, test_dl, input_dimension_, output_dimension_ = get_dataloader_objects(my_cfg)\n",
    "\n",
    "\n",
    "    \"\"\"CLASSIFICATION\"\"\"\n",
    "    # Get the model\n",
    "    model_untrained = get_nn_model(my_cfg, input_dimension=input_dimension_,output_dimension=output_dimension_)\n",
    "\n",
    "    # Get the optimizer\n",
    "    optimizer = get_optimizer(my_cfg, model_untrained.parameters())\n",
    "\n",
    "    # Train and show validation loss\n",
    "    train_losses, train_accuracies, val_losses, val_accuracies, model_trained, time_spent_for_training_s =\\\n",
    "        fit(train_dl, val_dl, model_untrained, optimizer, my_cfg)\n",
    "    \n",
    "    curves = train_losses, train_accuracies, val_losses, val_accuracies, model_trained, time_spent_for_training_s\n",
    "    training_curves[my_cfg.curve_name] = curves\n",
    "    \n",
    "    # Report final accuracy\n",
    "    test_loss, test_accuracy =  final_test_acc(model_trained, test_dl, my_cfg)\n",
    "\n",
    "\n",
    "    # Store the results\n",
    "    results_storer.store_results_for_plot(my_cfg,test_loss, test_accuracy, train_losses,\n",
    "                                 train_accuracies, time_spent_for_training_s, val_losses, val_accuracies)\n",
    "\n",
    "    results_storer.store_results(my_cfg, model_trained, optimizer, test_loss, test_accuracy, train_losses,\n",
    "                                 train_accuracies, time_spent_for_training_s, val_losses, val_accuracies, test_dl)\n",
    "\n",
    "\n",
    "plot_all_metrics(training_curves)"
   ]
  },
  {
   "cell_type": "code",
   "execution_count": null,
   "metadata": {},
   "outputs": [],
   "source": []
  },
  {
   "cell_type": "code",
   "execution_count": null,
   "metadata": {},
   "outputs": [],
   "source": []
  }
 ],
 "metadata": {
  "kernelspec": {
   "display_name": "Python 3",
   "language": "python",
   "name": "python3"
  },
  "language_info": {
   "codemirror_mode": {
    "name": "ipython",
    "version": 3
   },
   "file_extension": ".py",
   "mimetype": "text/x-python",
   "name": "python",
   "nbconvert_exporter": "python",
   "pygments_lexer": "ipython3",
   "version": "3.7.3"
  }
 },
 "nbformat": 4,
 "nbformat_minor": 2
}
