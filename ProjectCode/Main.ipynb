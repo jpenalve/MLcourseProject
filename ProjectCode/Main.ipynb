{
 "cells": [
  {
   "cell_type": "markdown",
   "metadata": {},
   "source": [
    "# LOAD Modules"
   ]
  },
  {
   "cell_type": "code",
   "execution_count": null,
   "metadata": {},
   "outputs": [],
   "source": [
    "%matplotlib inline\n",
    "#%matplotlib widget\n",
    "%load_ext autoreload\n",
    "%autoreload 2\n",
    "\n",
    "\n",
    "import numpy as np\n",
    "from visualisations import eeg_sample_plot, events_distribution_plot\n",
    "from sklearn.model_selection import train_test_split\n",
    "from torchvision.transforms import Compose, ToTensor\n",
    "from torch.utils.data import DataLoader\n",
    "from datasets import ChannelsVoltageDataset\n",
    "from neural_nets.nn_models_getter import get_nn_model\n",
    "from optimizers import get_optimizer\n",
    "from utils_train import fit, test, plot_all_metrics, plot_val_metrics\n",
    "from configs import configs_ozhan, configs_tim, configs_joaquin\n",
    "from data_loader_creation import get_dataloader_objects\n",
    "from classification_results import results_storer\n",
    "\n"
   ]
  },
  {
   "cell_type": "markdown",
   "metadata": {},
   "source": [
    "# Select the configuration"
   ]
  },
  {
   "cell_type": "code",
   "execution_count": null,
   "metadata": {},
   "outputs": [],
   "source": [
    "\"\"\" USER: SELECT THE CONFIGURATION YOU NEED \"\"\"\n",
    "#myList = configs_tim.list_of_configs\n",
    "#myList = configs_joaquin.list_of_configs\n",
    "myList = configs_ozhan.list_of_configs"
   ]
  },
  {
   "cell_type": "markdown",
   "metadata": {},
   "source": [
    "# Train"
   ]
  },
  {
   "cell_type": "code",
   "execution_count": null,
   "metadata": {},
   "outputs": [],
   "source": [
    "training_curves = {}\n",
    "\n",
    "for my_cfg in myList:\n",
    "    \n",
    "    curve_name = my_cfg.nn_list[my_cfg.nn_selection_idx] + \"_\" + my_cfg.optimizer_list[my_cfg.optimizer_selection_idx]\n",
    "    print(curve_name,\"\\n-------------------------\\n\", flush=True)\n",
    "    \n",
    "    \"\"\" PREPARE DATALOADERS \"\"\"\n",
    "    train_dl, val_dl, test_dl, input_dimension_, output_dimension_ = get_dataloader_objects(my_cfg)\n",
    "\n",
    "\n",
    "    \"\"\"CLASSIFICATION\"\"\"\n",
    "    # Get the model\n",
    "    model_untrained = get_nn_model(my_cfg.nn_list[my_cfg.nn_selection_idx], input_dimension=input_dimension_,\n",
    "                                   output_dimension=output_dimension_)\n",
    "\n",
    "    # Get the optimizer\n",
    "    optimizer = get_optimizer(my_cfg.optimizer_list[my_cfg.optimizer_selection_idx], my_cfg.learning_rate,\n",
    "                              model_untrained.parameters(), my_cfg.momentum, my_cfg.weight_decay)\n",
    "\n",
    "    # Train and show validation loss\n",
    "    train_losses, train_accuracies, val_losses, val_accuracies, model_trained, time_spent_for_training_s =\\\n",
    "        fit(train_dl, val_dl, model_untrained, optimizer, my_cfg.loss_fn, my_cfg.num_of_epochs, apply_early_stopping = my_cfg.use_early_stopping, estop_patience=my_cfg.es_patience)\n",
    "    \n",
    "    \n",
    "    curves = train_losses, train_accuracies, val_losses, val_accuracies, model_trained, time_spent_for_training_s\n",
    "    \n",
    "    \n",
    "    training_curves[curve_name] = curves\n",
    "    \n",
    "    # Test the net\n",
    "    test_loss, test_accuracy = test(model_trained, test_dl, my_cfg.loss_fn, print_loss=True)\n",
    "\n",
    "    # Store the results\n",
    "    results_storer.store_results(my_cfg, model_trained, optimizer, test_loss, test_accuracy, train_losses,\n",
    "                                 train_accuracies, time_spent_for_training_s, val_losses, val_accuracies)\n",
    "\n",
    "\n",
    "plot_all_metrics(training_curves)"
   ]
  },
  {
   "cell_type": "code",
   "execution_count": null,
   "metadata": {},
   "outputs": [],
   "source": []
  }
 ],
 "metadata": {
  "kernelspec": {
   "display_name": "Python 3",
   "language": "python",
   "name": "python3"
  },
  "language_info": {
   "codemirror_mode": {
    "name": "ipython",
    "version": 3
   },
   "file_extension": ".py",
   "mimetype": "text/x-python",
   "name": "python",
   "nbconvert_exporter": "python",
   "pygments_lexer": "ipython3",
   "version": "3.7.1"
  }
 },
 "nbformat": 4,
 "nbformat_minor": 2
}
