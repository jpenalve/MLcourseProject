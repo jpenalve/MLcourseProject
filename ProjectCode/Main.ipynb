{
 "cells": [
  {
   "cell_type": "markdown",
   "metadata": {},
   "source": [
    "# LOAD Modules"
   ]
  },
  {
   "cell_type": "code",
   "execution_count": 1,
   "metadata": {},
   "outputs": [],
   "source": [
    "%matplotlib inline\n",
    "#%matplotlib widget\n",
    "%load_ext autoreload\n",
    "%autoreload 2\n",
    "\n",
    "\n",
    "import numpy as np\n",
    "from visualisations import eeg_sample_plot, events_distribution_plot, curve_name_gen\n",
    "from sklearn.model_selection import train_test_split\n",
    "from torchvision.transforms import Compose, ToTensor\n",
    "from torch.utils.data import DataLoader\n",
    "from datasets import ChannelsVoltageDataset\n",
    "from neural_nets.nn_models_getter import get_nn_model\n",
    "from optimizers import get_optimizer\n",
    "from utils_train import fit, test, plot_all_metrics, plot_val_metrics, final_test_acc\n",
    "from configs import configs_ozhan, configs_tim, configs_joaquin\n",
    "from data_loader_creation import get_dataloader_objects\n",
    "from classification_results import results_storer"
   ]
  },
  {
   "cell_type": "markdown",
   "metadata": {},
   "source": [
    "# Select the configuration"
   ]
  },
  {
   "cell_type": "code",
   "execution_count": 2,
   "metadata": {},
   "outputs": [],
   "source": [
    "\"\"\" USER: SELECT THE CONFIGURATION YOU NEED \"\"\"\n",
    "#myList = configs_tim.list_of_configs\n",
    "#myList = configs_joaquin.list_of_configs\n",
    "myList = configs_ozhan.list_of_configs"
   ]
  },
  {
   "cell_type": "markdown",
   "metadata": {},
   "source": [
    "# Train"
   ]
  },
  {
   "cell_type": "code",
   "execution_count": null,
   "metadata": {},
   "outputs": [
    {
     "name": "stdout",
     "output_type": "stream",
     "text": [
      "ConvNetOzhan2D_Adam \n",
      "-------------------------\n",
      "\n",
      "We are not on the cluster...\n",
      "\n",
      "Data is being loaded using MNE...\n"
     ]
    },
    {
     "name": "stderr",
     "output_type": "stream",
     "text": [
      "100%|██████████| 1/1 [00:14<00:00, 14.22s/it]\n"
     ]
    },
    {
     "name": "stdout",
     "output_type": "stream",
     "text": [
      "2700 matching events found\n",
      "No baseline correction applied\n",
      "...data loading with MNE was finished. \n",
      "\n",
      "320  time samples and  64  EEG channels for one epoch are taken.  Total epoch number is  2700  and there are  60  subjects included.\n",
      " There are in total  2  classes for classification.\n",
      "\n",
      "\n",
      "Expected network layer output shapes:\n",
      "Input: [1, 64, 320]\n",
      "Layer 1 Out: [512, 64, 54]\n",
      "Layer 2 Out: [512, 64, 27]\n",
      "Layer 3 Out: [256, 16, 27]\n",
      "Linear Layer Features: 110592 \n",
      "\n",
      "cuda will be used for training of this model.\n",
      "You have 2 GPUs for training!\n",
      "Learning Rate:  0.0001 \n",
      "\n",
      "-> Epoch 1/200: train_loss: 0.6461, train_accuracy: 65.1578%, val_loss: 0.5450, val_accuracy: 72.4280%\n",
      "-> Epoch 2/200: train_loss: 0.4107, train_accuracy: 79.6982%, val_loss: 0.4763, val_accuracy: 72.8395%\n",
      "-> Epoch 3/200: train_loss: 0.3646, train_accuracy: 83.1733%, val_loss: 0.4825, val_accuracy: 73.2510%\n",
      "-> Epoch 4/200: train_loss: 0.3233, train_accuracy: 85.1852%, val_loss: 0.4746, val_accuracy: 75.7202%\n",
      "-> Epoch 5/200: train_loss: 0.2855, train_accuracy: 87.3342%, val_loss: 0.5292, val_accuracy: 73.6626%\n",
      "-> Epoch 6/200: train_loss: 0.2837, train_accuracy: 88.6145%, val_loss: 0.5127, val_accuracy: 75.7202%\n"
     ]
    }
   ],
   "source": [
    "training_curves = {}\n",
    "\n",
    "for my_cfg in myList:\n",
    "    \n",
    "    curve_name_gen(my_cfg)\n",
    "    \n",
    "    \"\"\" PREPARE DATALOADERS \"\"\"\n",
    "    train_dl, val_dl, test_dl, input_dimension_, output_dimension_ = get_dataloader_objects(my_cfg)\n",
    "\n",
    "    \n",
    "    \"\"\"CLASSIFICATION\"\"\"\n",
    "    # Get the model\n",
    "    model_untrained = get_nn_model(my_cfg, input_dimension=input_dimension_,output_dimension=output_dimension_)\n",
    "\n",
    "    # Get the optimizer\n",
    "    optimizer = get_optimizer(my_cfg, model_untrained.parameters())\n",
    "\n",
    "    # Train and show validation loss\n",
    "    train_losses, train_accuracies, val_losses, val_accuracies, model_trained, time_spent_for_training_s =\\\n",
    "        fit(train_dl, val_dl, model_untrained, optimizer, my_cfg)\n",
    "    \n",
    "    curves = train_losses, train_accuracies, val_losses, val_accuracies, model_trained, time_spent_for_training_s\n",
    "    training_curves[my_cfg.curve_name] = curves\n",
    "    \n",
    "    # Report final accuracy\n",
    "    test_loss, test_accuracy =  final_test_acc(model_trained, test_dl, my_cfg)\n",
    "\n",
    "\n",
    "    # Store the results\n",
    "    results_storer.store_results_for_plot(my_cfg,test_loss, test_accuracy, train_losses,\n",
    "                                 train_accuracies, time_spent_for_training_s, val_losses, val_accuracies)\n",
    "\n",
    "    results_storer.store_results(my_cfg, model_trained, optimizer, test_loss, test_accuracy, train_losses,\n",
    "                                 train_accuracies, time_spent_for_training_s, val_losses, val_accuracies, test_dl)\n",
    "\n",
    "\n",
    "plot_all_metrics(training_curves)"
   ]
  },
  {
   "cell_type": "code",
   "execution_count": null,
   "metadata": {},
   "outputs": [],
   "source": []
  }
 ],
 "metadata": {
  "kernelspec": {
   "display_name": "Python 3",
   "language": "python",
   "name": "python3"
  },
  "language_info": {
   "codemirror_mode": {
    "name": "ipython",
    "version": 3
   },
   "file_extension": ".py",
   "mimetype": "text/x-python",
   "name": "python",
   "nbconvert_exporter": "python",
   "pygments_lexer": "ipython3",
   "version": "3.7.3"
  }
 },
 "nbformat": 4,
 "nbformat_minor": 2
}
