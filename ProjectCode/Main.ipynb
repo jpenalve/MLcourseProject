{
 "cells": [
  {
   "cell_type": "markdown",
   "metadata": {},
   "source": [
    "# LOAD Modules"
   ]
  },
  {
   "cell_type": "code",
   "execution_count": 14,
   "metadata": {},
   "outputs": [
    {
     "name": "stdout",
     "output_type": "stream",
     "text": [
      "The autoreload extension is already loaded. To reload it, use:\n",
      "  %reload_ext autoreload\n"
     ]
    }
   ],
   "source": [
    "import numpy as np\n",
    "from visualisations import eeg_sample_plot, events_distribution_plot\n",
    "from sklearn.model_selection import train_test_split\n",
    "from torchvision.transforms import Compose, ToTensor\n",
    "from torch.utils.data import DataLoader\n",
    "from datasets import ChannelsVoltageDataset\n",
    "from neural_nets.nn_models_getter import get_nn_model\n",
    "from optimizers import get_optimizer\n",
    "from utils_train import fit, test\n",
    "from configs import configs_ozhan, configs_tim, configs_joaquin\n",
    "from mne_data_loader import get_epoched_data\n",
    "from classification_results import results_storer\n",
    "\n",
    "\n",
    "%matplotlib inline\n",
    "%load_ext autoreload\n",
    "%autoreload 2"
   ]
  },
  {
   "cell_type": "markdown",
   "metadata": {},
   "source": [
    "# Select the configuration"
   ]
  },
  {
   "cell_type": "code",
   "execution_count": 18,
   "metadata": {},
   "outputs": [],
   "source": [
    "\"\"\" USER: SELECT THE CONFIGURATION YOU NEED \"\"\"\n",
    "#myList = configs_tim.list_of_configs\n",
    "#myList = configs_joaquin.list_of_configs\n",
    "myList = configs_ozhan.list_of_configs"
   ]
  },
  {
   "cell_type": "markdown",
   "metadata": {},
   "source": [
    "# Train"
   ]
  },
  {
   "cell_type": "code",
   "execution_count": null,
   "metadata": {},
   "outputs": [
    {
     "name": "stdout",
     "output_type": "stream",
     "text": [
      "Trigger channel has a non-zero initial value of 1 (consider using initial_event=True to detect this event)\n",
      "Removing orphaned offset at the beginning of the file.\n",
      "3723 events found\n",
      "Event IDs: [1 2 3]\n",
      "2310 matching events found\n",
      "Applying baseline correction (mode: mean)\n",
      "Not setting metadata\n",
      "0 projection items activated\n",
      "Loading data for 2310 events and 817 original time points ...\n",
      "0 bad epochs dropped\n",
      "train_ds.shape (1871, 65, 817)\n",
      "cuda Will be used for training of this model.\n",
      "You have 2 GPUs for training!\n",
      "Learning Rate:  0.001\n",
      "Epoch 1/25: train_loss: 79135.2289, train_accuracy: 53.5008, val_loss: 13737.8259, val_accuracy: 41.3462\n",
      "Epoch 2/25: train_loss: 8318.3456, train_accuracy: 62.4800, val_loss: 0.0000, val_accuracy: 100.0000\n",
      "Epoch 3/25: train_loss: 531.3791, train_accuracy: 87.6002, val_loss: 0.0000, val_accuracy: 100.0000\n",
      "Epoch 4/25: train_loss: 0.3542, train_accuracy: 99.9466, val_loss: 0.0000, val_accuracy: 100.0000\n",
      "Epoch 5/25: train_loss: 0.0000, train_accuracy: 100.0000, val_loss: 0.0000, val_accuracy: 100.0000\n",
      "Epoch 6/25: train_loss: 0.0000, train_accuracy: 100.0000, val_loss: 0.0000, val_accuracy: 100.0000\n",
      "Epoch 7/25: train_loss: 0.0000, train_accuracy: 100.0000, val_loss: 0.0000, val_accuracy: 100.0000\n"
     ]
    }
   ],
   "source": [
    "for my_cfg in myList:\n",
    "    \"\"\"LOAD RAW DATA\"\"\"\n",
    "    epoched = get_epoched_data(my_cfg)\n",
    "\n",
    "    \"\"\"SHOW DATA\"\"\"\n",
    "    # Show some sample EEG data if desired\n",
    "    if my_cfg.show_eeg_sample_plot:\n",
    "        eeg_sample_plot(my_cfg.subjectIdx_to_plot, my_cfg.seconds_to_plot, my_cfg.channels_to_plot, my_cfg.raw_EDF_list)\n",
    "    if my_cfg.show_events_distribution:\n",
    "        events_distribution_plot(epoched.events)\n",
    "\n",
    "    \"\"\"DATA PREPARATION\"\"\"\n",
    "    # Convert data from volt to millivolt\n",
    "    # Pytorch expects float32 for input and int64 for labels.\n",
    "    # TODO: Make this all in a data module\n",
    "    event_current_class_column = 2 #event_previous_class_column = 1   event_start_sample_column = 0\n",
    "    data = (epoched.get_data() * 1e6).astype(np.float32)  # Get all epochs as a 3D array.\n",
    "    labels = (epoched.events[:, event_current_class_column] - 2).astype(np.int64)  # -2 -> Classes must be 0 indexed\n",
    "    assert len(data) == len(labels)  # Check format\n",
    "\n",
    "    # Split data in train test and validation set\n",
    "    train_data_temp, test_data, train_labels_temp, test_labels = train_test_split(data, labels, test_size=my_cfg.test_split,\n",
    "                                                                                  shuffle=True)\n",
    "    train_data, val_data, train_labels, val_labels = train_test_split(train_data_temp, train_labels_temp,\n",
    "                                                                      test_size=my_cfg.validation_split, shuffle=True)\n",
    "    myTransforms = Compose([ToTensor()])  # TODO: This has to be more sophisticated. Should also be list selectable like the optimizers\n",
    "\n",
    "    # Define datasets\n",
    "    train_ds = ChannelsVoltageDataset(train_data, train_labels, myTransforms) # TODO: Should also be list selectable like the optimizers\n",
    "    val_ds = ChannelsVoltageDataset(val_data, val_labels, myTransforms)\n",
    "    test_ds = ChannelsVoltageDataset(test_data, test_labels, myTransforms)\n",
    "    print(\"train_ds.shape\", train_ds.data.shape)\n",
    "\n",
    "    # Define data loader\n",
    "    train_dl = DataLoader(train_ds, my_cfg.batch_size, shuffle=True)\n",
    "    val_dl = DataLoader(val_ds, my_cfg.batch_size, shuffle=False)\n",
    "    test_dl = DataLoader(test_ds, my_cfg.batch_size, shuffle=False)\n",
    "    input_dimension_ = train_ds.data.shape[1] * train_ds.data.shape[2]\n",
    "\n",
    "    \"\"\"CLASSIFICATION\"\"\"\n",
    "    # Get the model\n",
    "    model_untrained = get_nn_model(my_cfg.nn_list[my_cfg.nn_selection_idx], input_dimension=input_dimension_,\n",
    "                                   output_dimension=len(my_cfg.selected_classes))\n",
    "\n",
    "    # Get the optimizer\n",
    "    optimizer = get_optimizer(my_cfg.optimizer_list[my_cfg.optimizer_selection_idx], my_cfg.learning_rate,\n",
    "                              model_untrained.parameters(), my_cfg.momentum, my_cfg.weight_decay)\n",
    "\n",
    "    # Train and show validation loss\n",
    "    train_losses, train_accuracies, val_losses, val_accuracies, model_trained, time_spent_for_training_s =\\\n",
    "        fit(train_dl, val_dl, model_untrained, optimizer, my_cfg.loss_fn, my_cfg.num_of_epochs)\n",
    "\n",
    "    # Test the net\n",
    "    test_loss, test_accuracy = test(model_trained, test_dl, my_cfg.loss_fn, print_loss=True)\n",
    "\n",
    "    # Store the results\n",
    "    results_storer.store_results(my_cfg, model_trained, optimizer, test_loss, test_accuracy, train_losses,\n",
    "                                 train_accuracies, time_spent_for_training_s, val_losses, val_accuracies)\n",
    "\n",
    "\n",
    "\n"
   ]
  },
  {
   "cell_type": "code",
   "execution_count": null,
   "metadata": {},
   "outputs": [],
   "source": []
  }
 ],
 "metadata": {
  "kernelspec": {
   "display_name": "Python 3",
   "language": "python",
   "name": "python3"
  },
  "language_info": {
   "codemirror_mode": {
    "name": "ipython",
    "version": 3
   },
   "file_extension": ".py",
   "mimetype": "text/x-python",
   "name": "python",
   "nbconvert_exporter": "python",
   "pygments_lexer": "ipython3",
   "version": "3.7.3"
  }
 },
 "nbformat": 4,
 "nbformat_minor": 2
}
